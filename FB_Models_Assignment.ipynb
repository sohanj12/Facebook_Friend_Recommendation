{
 "cells": [
  {
   "cell_type": "markdown",
   "metadata": {
    "colab_type": "text",
    "id": "naWvqMEMHglO"
   },
   "source": [
    "<p style=\"font-size:32px;text-align:center\"> <b>Social network Graph Link Prediction - Facebook Challenge</b> </p>"
   ]
  },
  {
   "cell_type": "code",
   "execution_count": 51,
   "metadata": {
    "colab": {},
    "colab_type": "code",
    "id": "9wb9N5RzHglP"
   },
   "outputs": [],
   "source": [
    "#Importing Libraries\n",
    "\n",
    "import warnings\n",
    "warnings.filterwarnings(\"ignore\")\n",
    "\n",
    "import csv\n",
    "import pandas as pd#pandas to create small dataframes \n",
    "import datetime #Convert to unix time\n",
    "import time #Convert to unix time\n",
    "# if numpy is not installed already : pip3 install numpy\n",
    "import numpy as np#Do aritmetic operations on arrays\n",
    "# matplotlib: used to plot graphs\n",
    "import matplotlib\n",
    "import matplotlib.pylab as plt\n",
    "import seaborn as sns#Plots\n",
    "from matplotlib import rcParams#Size of plots  \n",
    "from sklearn.cluster import MiniBatchKMeans, KMeans#Clustering\n",
    "import math\n",
    "import pickle\n",
    "import os\n",
    "# to install xgboost: pip3 install xgboost\n",
    "import xgboost as xgb\n",
    "\n",
    "import warnings\n",
    "import networkx as nx\n",
    "import pdb\n",
    "import pickle\n",
    "from pandas import HDFStore,DataFrame\n",
    "from pandas import read_hdf\n",
    "from scipy.sparse.linalg import svds, eigs\n",
    "import gc\n",
    "from tqdm import tqdm\n",
    "from sklearn.ensemble import RandomForestClassifier\n",
    "from sklearn.metrics import f1_score"
   ]
  },
  {
   "cell_type": "code",
   "execution_count": 3,
   "metadata": {
    "colab": {},
    "colab_type": "code",
    "id": "XC4OJFKkHglU"
   },
   "outputs": [],
   "source": [
    "#reading\n",
    "from pandas import read_hdf\n",
    "df_final_train = read_hdf('storage_sample_stage4.h5', 'train_df',mode='r')\n",
    "df_final_test = read_hdf('storage_sample_stage4.h5', 'test_df',mode='r')"
   ]
  },
  {
   "cell_type": "code",
   "execution_count": 7,
   "metadata": {
    "colab": {},
    "colab_type": "code",
    "id": "5Gm-BHRkHglW",
    "outputId": "d2c2294c-113e-4fdb-d3e5-dc167dcf5fbc"
   },
   "outputs": [
    {
     "data": {
      "text/html": [
       "<div>\n",
       "<style scoped>\n",
       "    .dataframe tbody tr th:only-of-type {\n",
       "        vertical-align: middle;\n",
       "    }\n",
       "\n",
       "    .dataframe tbody tr th {\n",
       "        vertical-align: top;\n",
       "    }\n",
       "\n",
       "    .dataframe thead th {\n",
       "        text-align: right;\n",
       "    }\n",
       "</style>\n",
       "<table border=\"1\" class=\"dataframe\">\n",
       "  <thead>\n",
       "    <tr style=\"text-align: right;\">\n",
       "      <th></th>\n",
       "      <th>source_node</th>\n",
       "      <th>destination_node</th>\n",
       "      <th>indicator_link</th>\n",
       "      <th>jaccard_followers</th>\n",
       "      <th>jaccard_followees</th>\n",
       "      <th>cosine_followers</th>\n",
       "      <th>cosine_followees</th>\n",
       "      <th>num_followers_s</th>\n",
       "      <th>num_followees_s</th>\n",
       "      <th>num_followees_d</th>\n",
       "      <th>...</th>\n",
       "      <th>svd_v_s_3</th>\n",
       "      <th>svd_v_s_4</th>\n",
       "      <th>svd_v_s_5</th>\n",
       "      <th>svd_v_s_6</th>\n",
       "      <th>svd_v_d_1</th>\n",
       "      <th>svd_v_d_2</th>\n",
       "      <th>svd_v_d_3</th>\n",
       "      <th>svd_v_d_4</th>\n",
       "      <th>svd_v_d_5</th>\n",
       "      <th>svd_v_d_6</th>\n",
       "    </tr>\n",
       "  </thead>\n",
       "  <tbody>\n",
       "    <tr>\n",
       "      <th>28717</th>\n",
       "      <td>1065224</td>\n",
       "      <td>1089085</td>\n",
       "      <td>1</td>\n",
       "      <td>0</td>\n",
       "      <td>0.230769</td>\n",
       "      <td>0.041996</td>\n",
       "      <td>0.377964</td>\n",
       "      <td>9</td>\n",
       "      <td>9</td>\n",
       "      <td>7</td>\n",
       "      <td>...</td>\n",
       "      <td>2.138879e-11</td>\n",
       "      <td>7.707624e-14</td>\n",
       "      <td>2.358701e-13</td>\n",
       "      <td>1.250468e-14</td>\n",
       "      <td>-2.899475e-15</td>\n",
       "      <td>7.241227e-14</td>\n",
       "      <td>1.157542e-12</td>\n",
       "      <td>6.504260e-12</td>\n",
       "      <td>1.967107e-13</td>\n",
       "      <td>3.713690e-16</td>\n",
       "    </tr>\n",
       "    <tr>\n",
       "      <th>27819</th>\n",
       "      <td>1249327</td>\n",
       "      <td>1578943</td>\n",
       "      <td>1</td>\n",
       "      <td>0</td>\n",
       "      <td>0.172775</td>\n",
       "      <td>0.023904</td>\n",
       "      <td>0.300497</td>\n",
       "      <td>196</td>\n",
       "      <td>134</td>\n",
       "      <td>90</td>\n",
       "      <td>...</td>\n",
       "      <td>-9.280774e-11</td>\n",
       "      <td>1.173556e-09</td>\n",
       "      <td>-7.131169e-13</td>\n",
       "      <td>1.965942e-02</td>\n",
       "      <td>1.407556e-13</td>\n",
       "      <td>-7.169089e-13</td>\n",
       "      <td>-3.516788e-10</td>\n",
       "      <td>-1.047432e-08</td>\n",
       "      <td>-2.890610e-12</td>\n",
       "      <td>8.067219e-02</td>\n",
       "    </tr>\n",
       "    <tr>\n",
       "      <th>92354</th>\n",
       "      <td>686632</td>\n",
       "      <td>1284361</td>\n",
       "      <td>0</td>\n",
       "      <td>0</td>\n",
       "      <td>0.000000</td>\n",
       "      <td>0.000000</td>\n",
       "      <td>0.000000</td>\n",
       "      <td>1</td>\n",
       "      <td>2</td>\n",
       "      <td>1</td>\n",
       "      <td>...</td>\n",
       "      <td>0.000000e+00</td>\n",
       "      <td>0.000000e+00</td>\n",
       "      <td>0.000000e+00</td>\n",
       "      <td>0.000000e+00</td>\n",
       "      <td>-7.375805e-22</td>\n",
       "      <td>2.121909e-21</td>\n",
       "      <td>6.420414e-20</td>\n",
       "      <td>6.926887e-22</td>\n",
       "      <td>-7.675343e-22</td>\n",
       "      <td>-3.613155e-22</td>\n",
       "    </tr>\n",
       "    <tr>\n",
       "      <th>35980</th>\n",
       "      <td>498289</td>\n",
       "      <td>1732479</td>\n",
       "      <td>1</td>\n",
       "      <td>0</td>\n",
       "      <td>0.045455</td>\n",
       "      <td>0.074536</td>\n",
       "      <td>0.114708</td>\n",
       "      <td>3</td>\n",
       "      <td>19</td>\n",
       "      <td>4</td>\n",
       "      <td>...</td>\n",
       "      <td>4.681435e-10</td>\n",
       "      <td>9.470136e-12</td>\n",
       "      <td>1.785177e-11</td>\n",
       "      <td>5.020871e-14</td>\n",
       "      <td>-2.242198e-13</td>\n",
       "      <td>1.016657e-11</td>\n",
       "      <td>2.119183e-12</td>\n",
       "      <td>2.035195e-12</td>\n",
       "      <td>5.572053e-13</td>\n",
       "      <td>1.778798e-15</td>\n",
       "    </tr>\n",
       "    <tr>\n",
       "      <th>67395</th>\n",
       "      <td>1311359</td>\n",
       "      <td>390217</td>\n",
       "      <td>0</td>\n",
       "      <td>0</td>\n",
       "      <td>0.000000</td>\n",
       "      <td>0.000000</td>\n",
       "      <td>0.000000</td>\n",
       "      <td>0</td>\n",
       "      <td>6</td>\n",
       "      <td>1</td>\n",
       "      <td>...</td>\n",
       "      <td>6.311099e-11</td>\n",
       "      <td>1.819855e-12</td>\n",
       "      <td>1.059292e-11</td>\n",
       "      <td>1.784961e-14</td>\n",
       "      <td>0.000000e+00</td>\n",
       "      <td>0.000000e+00</td>\n",
       "      <td>0.000000e+00</td>\n",
       "      <td>0.000000e+00</td>\n",
       "      <td>0.000000e+00</td>\n",
       "      <td>0.000000e+00</td>\n",
       "    </tr>\n",
       "  </tbody>\n",
       "</table>\n",
       "<p>5 rows × 54 columns</p>\n",
       "</div>"
      ],
      "text/plain": [
       "       source_node  destination_node  indicator_link  jaccard_followers  \\\n",
       "28717      1065224           1089085               1                  0   \n",
       "27819      1249327           1578943               1                  0   \n",
       "92354       686632           1284361               0                  0   \n",
       "35980       498289           1732479               1                  0   \n",
       "67395      1311359            390217               0                  0   \n",
       "\n",
       "       jaccard_followees  cosine_followers  cosine_followees  num_followers_s  \\\n",
       "28717           0.230769          0.041996          0.377964                9   \n",
       "27819           0.172775          0.023904          0.300497              196   \n",
       "92354           0.000000          0.000000          0.000000                1   \n",
       "35980           0.045455          0.074536          0.114708                3   \n",
       "67395           0.000000          0.000000          0.000000                0   \n",
       "\n",
       "       num_followees_s  num_followees_d  ...     svd_v_s_3     svd_v_s_4  \\\n",
       "28717                9                7  ...  2.138879e-11  7.707624e-14   \n",
       "27819              134               90  ... -9.280774e-11  1.173556e-09   \n",
       "92354                2                1  ...  0.000000e+00  0.000000e+00   \n",
       "35980               19                4  ...  4.681435e-10  9.470136e-12   \n",
       "67395                6                1  ...  6.311099e-11  1.819855e-12   \n",
       "\n",
       "          svd_v_s_5     svd_v_s_6     svd_v_d_1     svd_v_d_2     svd_v_d_3  \\\n",
       "28717  2.358701e-13  1.250468e-14 -2.899475e-15  7.241227e-14  1.157542e-12   \n",
       "27819 -7.131169e-13  1.965942e-02  1.407556e-13 -7.169089e-13 -3.516788e-10   \n",
       "92354  0.000000e+00  0.000000e+00 -7.375805e-22  2.121909e-21  6.420414e-20   \n",
       "35980  1.785177e-11  5.020871e-14 -2.242198e-13  1.016657e-11  2.119183e-12   \n",
       "67395  1.059292e-11  1.784961e-14  0.000000e+00  0.000000e+00  0.000000e+00   \n",
       "\n",
       "          svd_v_d_4     svd_v_d_5     svd_v_d_6  \n",
       "28717  6.504260e-12  1.967107e-13  3.713690e-16  \n",
       "27819 -1.047432e-08 -2.890610e-12  8.067219e-02  \n",
       "92354  6.926887e-22 -7.675343e-22 -3.613155e-22  \n",
       "35980  2.035195e-12  5.572053e-13  1.778798e-15  \n",
       "67395  0.000000e+00  0.000000e+00  0.000000e+00  \n",
       "\n",
       "[5 rows x 54 columns]"
      ]
     },
     "execution_count": 7,
     "metadata": {},
     "output_type": "execute_result"
    }
   ],
   "source": [
    "df_final_train.columns\n",
    "df_final_train.sample(5)"
   ]
  },
  {
   "cell_type": "code",
   "execution_count": 11,
   "metadata": {},
   "outputs": [
    {
     "name": "stdout",
     "output_type": "stream",
     "text": [
      "Name: \n",
      "Type: DiGraph\n",
      "Number of nodes: 1780722\n",
      "Number of edges: 7550015\n",
      "Average in degree:   4.2399\n",
      "Average out degree:   4.2399\n"
     ]
    }
   ],
   "source": [
    "if os.path.isfile('train_pos_after_eda.csv'):\n",
    "    train_graph=nx.read_edgelist('train_pos_after_eda.csv',delimiter=',',create_using=nx.DiGraph(),nodetype=int)\n",
    "    print(nx.info(train_graph))\n",
    "else:\n",
    "    print(\"please run the FB_EDA.ipynb or download the files from drive\")"
   ]
  },
  {
   "cell_type": "markdown",
   "metadata": {},
   "source": [
    "### Preferential Attachment feature"
   ]
  },
  {
   "cell_type": "code",
   "execution_count": 20,
   "metadata": {},
   "outputs": [],
   "source": [
    "def PrefAttachment(a,b):\n",
    "    try:\n",
    "        mult = len(list(train_graph.predecessors(a))) * len(list(train_graph.predecessors(b)))\n",
    "        return mult\n",
    "    except:\n",
    "        return 0"
   ]
  },
  {
   "cell_type": "code",
   "execution_count": 21,
   "metadata": {},
   "outputs": [],
   "source": [
    "#adding new feature of preferential attachment to the dataset\n",
    "df_final_train['pref_attachment'] = df_final_train.apply(lambda row:\n",
    "                                            PrefAttachment(row['source_node'],row['destination_node']),axis=1)\n",
    "df_final_test['pref_attachment'] = df_final_test.apply(lambda row:\n",
    "                                            PrefAttachment(row['source_node'],row['destination_node']),axis=1)"
   ]
  },
  {
   "cell_type": "code",
   "execution_count": 23,
   "metadata": {},
   "outputs": [
    {
     "data": {
      "text/html": [
       "<div>\n",
       "<style scoped>\n",
       "    .dataframe tbody tr th:only-of-type {\n",
       "        vertical-align: middle;\n",
       "    }\n",
       "\n",
       "    .dataframe tbody tr th {\n",
       "        vertical-align: top;\n",
       "    }\n",
       "\n",
       "    .dataframe thead th {\n",
       "        text-align: right;\n",
       "    }\n",
       "</style>\n",
       "<table border=\"1\" class=\"dataframe\">\n",
       "  <thead>\n",
       "    <tr style=\"text-align: right;\">\n",
       "      <th></th>\n",
       "      <th>source_node</th>\n",
       "      <th>destination_node</th>\n",
       "      <th>indicator_link</th>\n",
       "      <th>jaccard_followers</th>\n",
       "      <th>jaccard_followees</th>\n",
       "      <th>cosine_followers</th>\n",
       "      <th>cosine_followees</th>\n",
       "      <th>num_followers_s</th>\n",
       "      <th>num_followees_s</th>\n",
       "      <th>num_followees_d</th>\n",
       "      <th>...</th>\n",
       "      <th>svd_v_s_4</th>\n",
       "      <th>svd_v_s_5</th>\n",
       "      <th>svd_v_s_6</th>\n",
       "      <th>svd_v_d_1</th>\n",
       "      <th>svd_v_d_2</th>\n",
       "      <th>svd_v_d_3</th>\n",
       "      <th>svd_v_d_4</th>\n",
       "      <th>svd_v_d_5</th>\n",
       "      <th>svd_v_d_6</th>\n",
       "      <th>pref_attachment</th>\n",
       "    </tr>\n",
       "  </thead>\n",
       "  <tbody>\n",
       "    <tr>\n",
       "      <th>10246</th>\n",
       "      <td>1764063</td>\n",
       "      <td>90407</td>\n",
       "      <td>1</td>\n",
       "      <td>0</td>\n",
       "      <td>0.052632</td>\n",
       "      <td>0.051031</td>\n",
       "      <td>0.100125</td>\n",
       "      <td>12</td>\n",
       "      <td>19</td>\n",
       "      <td>21</td>\n",
       "      <td>...</td>\n",
       "      <td>8.607366e-11</td>\n",
       "      <td>1.260107e-10</td>\n",
       "      <td>6.176012e-13</td>\n",
       "      <td>-1.820895e-09</td>\n",
       "      <td>2.127048e-09</td>\n",
       "      <td>4.759990e-10</td>\n",
       "      <td>1.369629e-10</td>\n",
       "      <td>2.647054e-10</td>\n",
       "      <td>6.481495e-12</td>\n",
       "      <td>288</td>\n",
       "    </tr>\n",
       "    <tr>\n",
       "      <th>18775</th>\n",
       "      <td>979299</td>\n",
       "      <td>1176720</td>\n",
       "      <td>1</td>\n",
       "      <td>0</td>\n",
       "      <td>0.000000</td>\n",
       "      <td>0.288675</td>\n",
       "      <td>0.000000</td>\n",
       "      <td>6</td>\n",
       "      <td>1</td>\n",
       "      <td>6</td>\n",
       "      <td>...</td>\n",
       "      <td>1.631234e-21</td>\n",
       "      <td>4.193734e-23</td>\n",
       "      <td>-2.076080e-21</td>\n",
       "      <td>5.601581e-21</td>\n",
       "      <td>-1.439368e-21</td>\n",
       "      <td>6.743790e-21</td>\n",
       "      <td>3.990830e-21</td>\n",
       "      <td>2.520695e-22</td>\n",
       "      <td>-3.881356e-21</td>\n",
       "      <td>18</td>\n",
       "    </tr>\n",
       "    <tr>\n",
       "      <th>49061</th>\n",
       "      <td>1719797</td>\n",
       "      <td>426275</td>\n",
       "      <td>0</td>\n",
       "      <td>0</td>\n",
       "      <td>0.000000</td>\n",
       "      <td>0.000000</td>\n",
       "      <td>0.000000</td>\n",
       "      <td>0</td>\n",
       "      <td>1</td>\n",
       "      <td>3</td>\n",
       "      <td>...</td>\n",
       "      <td>2.680241e-17</td>\n",
       "      <td>9.789288e-20</td>\n",
       "      <td>-1.194643e-23</td>\n",
       "      <td>0.000000e+00</td>\n",
       "      <td>0.000000e+00</td>\n",
       "      <td>0.000000e+00</td>\n",
       "      <td>0.000000e+00</td>\n",
       "      <td>0.000000e+00</td>\n",
       "      <td>0.000000e+00</td>\n",
       "      <td>0</td>\n",
       "    </tr>\n",
       "    <tr>\n",
       "      <th>36683</th>\n",
       "      <td>309475</td>\n",
       "      <td>869304</td>\n",
       "      <td>0</td>\n",
       "      <td>0</td>\n",
       "      <td>0.000000</td>\n",
       "      <td>0.000000</td>\n",
       "      <td>0.000000</td>\n",
       "      <td>2</td>\n",
       "      <td>4</td>\n",
       "      <td>0</td>\n",
       "      <td>...</td>\n",
       "      <td>8.705262e-13</td>\n",
       "      <td>3.430645e-13</td>\n",
       "      <td>2.769591e-14</td>\n",
       "      <td>-8.843197e-16</td>\n",
       "      <td>6.449596e-15</td>\n",
       "      <td>5.123909e-13</td>\n",
       "      <td>2.224978e-13</td>\n",
       "      <td>7.628338e-15</td>\n",
       "      <td>9.534099e-17</td>\n",
       "      <td>12</td>\n",
       "    </tr>\n",
       "    <tr>\n",
       "      <th>27603</th>\n",
       "      <td>1784062</td>\n",
       "      <td>420237</td>\n",
       "      <td>0</td>\n",
       "      <td>0</td>\n",
       "      <td>0.000000</td>\n",
       "      <td>0.000000</td>\n",
       "      <td>0.000000</td>\n",
       "      <td>3</td>\n",
       "      <td>1</td>\n",
       "      <td>4</td>\n",
       "      <td>...</td>\n",
       "      <td>0.000000e+00</td>\n",
       "      <td>0.000000e+00</td>\n",
       "      <td>0.000000e+00</td>\n",
       "      <td>-1.958632e-13</td>\n",
       "      <td>2.645326e-13</td>\n",
       "      <td>6.112403e-13</td>\n",
       "      <td>7.863741e-14</td>\n",
       "      <td>3.126846e-13</td>\n",
       "      <td>1.901776e-16</td>\n",
       "      <td>0</td>\n",
       "    </tr>\n",
       "  </tbody>\n",
       "</table>\n",
       "<p>5 rows × 55 columns</p>\n",
       "</div>"
      ],
      "text/plain": [
       "       source_node  destination_node  indicator_link  jaccard_followers  \\\n",
       "10246      1764063             90407               1                  0   \n",
       "18775       979299           1176720               1                  0   \n",
       "49061      1719797            426275               0                  0   \n",
       "36683       309475            869304               0                  0   \n",
       "27603      1784062            420237               0                  0   \n",
       "\n",
       "       jaccard_followees  cosine_followers  cosine_followees  num_followers_s  \\\n",
       "10246           0.052632          0.051031          0.100125               12   \n",
       "18775           0.000000          0.288675          0.000000                6   \n",
       "49061           0.000000          0.000000          0.000000                0   \n",
       "36683           0.000000          0.000000          0.000000                2   \n",
       "27603           0.000000          0.000000          0.000000                3   \n",
       "\n",
       "       num_followees_s  num_followees_d  ...     svd_v_s_4     svd_v_s_5  \\\n",
       "10246               19               21  ...  8.607366e-11  1.260107e-10   \n",
       "18775                1                6  ...  1.631234e-21  4.193734e-23   \n",
       "49061                1                3  ...  2.680241e-17  9.789288e-20   \n",
       "36683                4                0  ...  8.705262e-13  3.430645e-13   \n",
       "27603                1                4  ...  0.000000e+00  0.000000e+00   \n",
       "\n",
       "          svd_v_s_6     svd_v_d_1     svd_v_d_2     svd_v_d_3     svd_v_d_4  \\\n",
       "10246  6.176012e-13 -1.820895e-09  2.127048e-09  4.759990e-10  1.369629e-10   \n",
       "18775 -2.076080e-21  5.601581e-21 -1.439368e-21  6.743790e-21  3.990830e-21   \n",
       "49061 -1.194643e-23  0.000000e+00  0.000000e+00  0.000000e+00  0.000000e+00   \n",
       "36683  2.769591e-14 -8.843197e-16  6.449596e-15  5.123909e-13  2.224978e-13   \n",
       "27603  0.000000e+00 -1.958632e-13  2.645326e-13  6.112403e-13  7.863741e-14   \n",
       "\n",
       "          svd_v_d_5     svd_v_d_6  pref_attachment  \n",
       "10246  2.647054e-10  6.481495e-12              288  \n",
       "18775  2.520695e-22 -3.881356e-21               18  \n",
       "49061  0.000000e+00  0.000000e+00                0  \n",
       "36683  7.628338e-15  9.534099e-17               12  \n",
       "27603  3.126846e-13  1.901776e-16                0  \n",
       "\n",
       "[5 rows x 55 columns]"
      ]
     },
     "execution_count": 23,
     "metadata": {},
     "output_type": "execute_result"
    }
   ],
   "source": [
    "df_final_test.sample(5)"
   ]
  },
  {
   "cell_type": "markdown",
   "metadata": {},
   "source": [
    "### SVD Dot Product features"
   ]
  },
  {
   "cell_type": "code",
   "execution_count": 29,
   "metadata": {
    "colab": {},
    "colab_type": "code",
    "id": "XRW7VZ4AHglc"
   },
   "outputs": [],
   "source": [
    "def svd_dot_u(row):\n",
    "    dot_u = np.dot([row['svd_u_s_1'],row['svd_u_s_2'],row['svd_u_s_3'],row['svd_u_s_4'],row['svd_u_s_5'],row['svd_u_s_6']],\n",
    "                  [row['svd_u_d_1'],row['svd_u_d_2'],row['svd_u_d_3'],row['svd_u_d_4'],row['svd_u_d_5'],row['svd_u_d_6']])\n",
    "    return dot_u\n",
    "\n",
    "def svd_dot_v(row):\n",
    "    dot_v = np.dot([row['svd_v_s_1'],row['svd_v_s_2'],row['svd_v_s_3'],row['svd_v_s_4'],row['svd_v_s_5'],row['svd_v_s_6']],\n",
    "                  [row['svd_v_d_1'],row['svd_v_d_2'],row['svd_v_d_3'],row['svd_v_d_4'],row['svd_v_d_5'],row['svd_v_d_6']])\n",
    "    return dot_v"
   ]
  },
  {
   "cell_type": "code",
   "execution_count": 30,
   "metadata": {},
   "outputs": [],
   "source": [
    "#adding new features of dot product to the dataset\n",
    "df_final_train['svd_dot_u'] = df_final_train.apply(lambda row:\n",
    "                                            svd_dot_u(row),axis=1)\n",
    "df_final_test['svd_dot_u'] = df_final_test.apply(lambda row:\n",
    "                                            svd_dot_u(row),axis=1)\n",
    "\n",
    "df_final_train['svd_dot_v'] = df_final_train.apply(lambda row:\n",
    "                                            svd_dot_v(row),axis=1)\n",
    "df_final_test['svd_dot_v'] = df_final_test.apply(lambda row:\n",
    "                                            svd_dot_v(row),axis=1)"
   ]
  },
  {
   "cell_type": "code",
   "execution_count": 32,
   "metadata": {},
   "outputs": [
    {
     "data": {
      "text/html": [
       "<div>\n",
       "<style scoped>\n",
       "    .dataframe tbody tr th:only-of-type {\n",
       "        vertical-align: middle;\n",
       "    }\n",
       "\n",
       "    .dataframe tbody tr th {\n",
       "        vertical-align: top;\n",
       "    }\n",
       "\n",
       "    .dataframe thead th {\n",
       "        text-align: right;\n",
       "    }\n",
       "</style>\n",
       "<table border=\"1\" class=\"dataframe\">\n",
       "  <thead>\n",
       "    <tr style=\"text-align: right;\">\n",
       "      <th></th>\n",
       "      <th>source_node</th>\n",
       "      <th>destination_node</th>\n",
       "      <th>indicator_link</th>\n",
       "      <th>jaccard_followers</th>\n",
       "      <th>jaccard_followees</th>\n",
       "      <th>cosine_followers</th>\n",
       "      <th>cosine_followees</th>\n",
       "      <th>num_followers_s</th>\n",
       "      <th>num_followees_s</th>\n",
       "      <th>num_followees_d</th>\n",
       "      <th>...</th>\n",
       "      <th>svd_v_s_6</th>\n",
       "      <th>svd_v_d_1</th>\n",
       "      <th>svd_v_d_2</th>\n",
       "      <th>svd_v_d_3</th>\n",
       "      <th>svd_v_d_4</th>\n",
       "      <th>svd_v_d_5</th>\n",
       "      <th>svd_v_d_6</th>\n",
       "      <th>pref_attachment</th>\n",
       "      <th>svd_dot_u</th>\n",
       "      <th>svd_dot_v</th>\n",
       "    </tr>\n",
       "  </thead>\n",
       "  <tbody>\n",
       "    <tr>\n",
       "      <th>99291</th>\n",
       "      <td>477297</td>\n",
       "      <td>236696</td>\n",
       "      <td>0</td>\n",
       "      <td>0</td>\n",
       "      <td>0.000000</td>\n",
       "      <td>0.0</td>\n",
       "      <td>0.000000</td>\n",
       "      <td>0</td>\n",
       "      <td>0</td>\n",
       "      <td>2</td>\n",
       "      <td>...</td>\n",
       "      <td>7.036948e-15</td>\n",
       "      <td>0.000000e+00</td>\n",
       "      <td>0.000000e+00</td>\n",
       "      <td>0.000000e+00</td>\n",
       "      <td>0.000000e+00</td>\n",
       "      <td>0.000000e+00</td>\n",
       "      <td>0.000000e+00</td>\n",
       "      <td>0</td>\n",
       "      <td>1.842502e-26</td>\n",
       "      <td>0.000000e+00</td>\n",
       "    </tr>\n",
       "    <tr>\n",
       "      <th>47657</th>\n",
       "      <td>1714611</td>\n",
       "      <td>681094</td>\n",
       "      <td>1</td>\n",
       "      <td>0</td>\n",
       "      <td>0.033333</td>\n",
       "      <td>0.0</td>\n",
       "      <td>0.081650</td>\n",
       "      <td>25</td>\n",
       "      <td>6</td>\n",
       "      <td>25</td>\n",
       "      <td>...</td>\n",
       "      <td>1.657204e-16</td>\n",
       "      <td>-1.006852e-12</td>\n",
       "      <td>2.972171e-09</td>\n",
       "      <td>6.763815e-11</td>\n",
       "      <td>7.369081e-13</td>\n",
       "      <td>1.265067e-09</td>\n",
       "      <td>9.539966e-14</td>\n",
       "      <td>150</td>\n",
       "      <td>6.543901e-18</td>\n",
       "      <td>3.522025e-18</td>\n",
       "    </tr>\n",
       "    <tr>\n",
       "      <th>46750</th>\n",
       "      <td>1679562</td>\n",
       "      <td>113979</td>\n",
       "      <td>1</td>\n",
       "      <td>0</td>\n",
       "      <td>0.000000</td>\n",
       "      <td>0.0</td>\n",
       "      <td>0.000000</td>\n",
       "      <td>67</td>\n",
       "      <td>30</td>\n",
       "      <td>119</td>\n",
       "      <td>...</td>\n",
       "      <td>1.207051e-13</td>\n",
       "      <td>-9.368505e-12</td>\n",
       "      <td>3.220883e-11</td>\n",
       "      <td>9.249319e-05</td>\n",
       "      <td>4.187288e-10</td>\n",
       "      <td>1.037747e-11</td>\n",
       "      <td>5.689817e-13</td>\n",
       "      <td>670</td>\n",
       "      <td>1.193021e-09</td>\n",
       "      <td>7.986130e-11</td>\n",
       "    </tr>\n",
       "    <tr>\n",
       "      <th>58565</th>\n",
       "      <td>1465195</td>\n",
       "      <td>985105</td>\n",
       "      <td>0</td>\n",
       "      <td>0</td>\n",
       "      <td>0.000000</td>\n",
       "      <td>0.0</td>\n",
       "      <td>0.000000</td>\n",
       "      <td>1</td>\n",
       "      <td>2</td>\n",
       "      <td>0</td>\n",
       "      <td>...</td>\n",
       "      <td>4.333962e-16</td>\n",
       "      <td>-2.078763e-13</td>\n",
       "      <td>1.011522e-14</td>\n",
       "      <td>1.041919e-10</td>\n",
       "      <td>9.915783e-15</td>\n",
       "      <td>2.022572e-13</td>\n",
       "      <td>3.129755e-17</td>\n",
       "      <td>2</td>\n",
       "      <td>1.816912e-26</td>\n",
       "      <td>9.064685e-18</td>\n",
       "    </tr>\n",
       "    <tr>\n",
       "      <th>5112</th>\n",
       "      <td>424074</td>\n",
       "      <td>170978</td>\n",
       "      <td>1</td>\n",
       "      <td>0</td>\n",
       "      <td>0.100000</td>\n",
       "      <td>0.0</td>\n",
       "      <td>0.188982</td>\n",
       "      <td>3</td>\n",
       "      <td>7</td>\n",
       "      <td>4</td>\n",
       "      <td>...</td>\n",
       "      <td>1.506252e-12</td>\n",
       "      <td>-9.232554e-14</td>\n",
       "      <td>7.889824e-13</td>\n",
       "      <td>1.518186e-14</td>\n",
       "      <td>3.707819e-14</td>\n",
       "      <td>3.458531e-14</td>\n",
       "      <td>1.112824e-14</td>\n",
       "      <td>12</td>\n",
       "      <td>3.978448e-22</td>\n",
       "      <td>3.173075e-24</td>\n",
       "    </tr>\n",
       "  </tbody>\n",
       "</table>\n",
       "<p>5 rows × 57 columns</p>\n",
       "</div>"
      ],
      "text/plain": [
       "       source_node  destination_node  indicator_link  jaccard_followers  \\\n",
       "99291       477297            236696               0                  0   \n",
       "47657      1714611            681094               1                  0   \n",
       "46750      1679562            113979               1                  0   \n",
       "58565      1465195            985105               0                  0   \n",
       "5112        424074            170978               1                  0   \n",
       "\n",
       "       jaccard_followees  cosine_followers  cosine_followees  num_followers_s  \\\n",
       "99291           0.000000               0.0          0.000000                0   \n",
       "47657           0.033333               0.0          0.081650               25   \n",
       "46750           0.000000               0.0          0.000000               67   \n",
       "58565           0.000000               0.0          0.000000                1   \n",
       "5112            0.100000               0.0          0.188982                3   \n",
       "\n",
       "       num_followees_s  num_followees_d  ...     svd_v_s_6     svd_v_d_1  \\\n",
       "99291                0                2  ...  7.036948e-15  0.000000e+00   \n",
       "47657                6               25  ...  1.657204e-16 -1.006852e-12   \n",
       "46750               30              119  ...  1.207051e-13 -9.368505e-12   \n",
       "58565                2                0  ...  4.333962e-16 -2.078763e-13   \n",
       "5112                 7                4  ...  1.506252e-12 -9.232554e-14   \n",
       "\n",
       "          svd_v_d_2     svd_v_d_3     svd_v_d_4     svd_v_d_5     svd_v_d_6  \\\n",
       "99291  0.000000e+00  0.000000e+00  0.000000e+00  0.000000e+00  0.000000e+00   \n",
       "47657  2.972171e-09  6.763815e-11  7.369081e-13  1.265067e-09  9.539966e-14   \n",
       "46750  3.220883e-11  9.249319e-05  4.187288e-10  1.037747e-11  5.689817e-13   \n",
       "58565  1.011522e-14  1.041919e-10  9.915783e-15  2.022572e-13  3.129755e-17   \n",
       "5112   7.889824e-13  1.518186e-14  3.707819e-14  3.458531e-14  1.112824e-14   \n",
       "\n",
       "       pref_attachment     svd_dot_u     svd_dot_v  \n",
       "99291                0  1.842502e-26  0.000000e+00  \n",
       "47657              150  6.543901e-18  3.522025e-18  \n",
       "46750              670  1.193021e-09  7.986130e-11  \n",
       "58565                2  1.816912e-26  9.064685e-18  \n",
       "5112                12  3.978448e-22  3.173075e-24  \n",
       "\n",
       "[5 rows x 57 columns]"
      ]
     },
     "execution_count": 32,
     "metadata": {},
     "output_type": "execute_result"
    }
   ],
   "source": [
    "df_final_train.sample(5)"
   ]
  },
  {
   "cell_type": "code",
   "execution_count": null,
   "metadata": {},
   "outputs": [],
   "source": [
    "y_train = df_final_train.indicator_link\n",
    "y_test = df_final_test.indicator_link"
   ]
  },
  {
   "cell_type": "code",
   "execution_count": 34,
   "metadata": {
    "colab": {},
    "colab_type": "code",
    "id": "4lj9M_qtHglf"
   },
   "outputs": [],
   "source": [
    "df_final_train.drop(['source_node', 'destination_node','indicator_link'],axis=1,inplace=True)\n",
    "df_final_test.drop(['source_node', 'destination_node','indicator_link'],axis=1,inplace=True)"
   ]
  },
  {
   "cell_type": "markdown",
   "metadata": {},
   "source": [
    "## XG Boost Model"
   ]
  },
  {
   "cell_type": "code",
   "execution_count": 39,
   "metadata": {},
   "outputs": [],
   "source": [
    "from lightgbm import LGBMClassifier\n",
    "from tqdm import tqdm_notebook"
   ]
  },
  {
   "cell_type": "code",
   "execution_count": 58,
   "metadata": {},
   "outputs": [
    {
     "data": {
      "application/vnd.jupyter.widget-view+json": {
       "model_id": "45fbfac1f2954e069c7f4139c8efbfda",
       "version_major": 2,
       "version_minor": 0
      },
      "text/plain": [
       "HBox(children=(IntProgress(value=0, max=5), HTML(value='')))"
      ]
     },
     "metadata": {},
     "output_type": "display_data"
    },
    {
     "name": "stdout",
     "output_type": "stream",
     "text": [
      "Estimators =  10 Train Score 0.9302179379715004 test Score 0.9261185387935572\n",
      "Estimators =  50 Train Score 0.9732690844534618 test Score 0.9318681318681319\n",
      "Estimators =  100 Train Score 0.9767032522381265 test Score 0.9294491525423728\n",
      "Estimators =  250 Train Score 0.9862197992315275 test Score 0.9256486601446193\n",
      "Estimators =  450 Train Score 0.9950910657396462 test Score 0.9180496590762897\n",
      "\n"
     ]
    },
    {
     "data": {
      "text/plain": [
       "Text(0.5, 1.0, 'Estimators vs score at max depth of 5')"
      ]
     },
     "execution_count": 58,
     "metadata": {},
     "output_type": "execute_result"
    },
    {
     "data": {
      "image/png": "[encoded data removed]",
      "text/plain": [
       "<Figure size 432x288 with 1 Axes>"
      ]
     },
     "metadata": {
      "needs_background": "light"
     },
     "output_type": "display_data"
    }
   ],
   "source": [
    "estimators = [10,50,100,250,450]\n",
    "    \n",
    "train_scores = []\n",
    "test_scores = []\n",
    "for i in tqdm_notebook(estimators):\n",
    "    clf = LGBMClassifier(n_estimators=i, learning_rate=0.1, objective='binary', n_jobs=5, max_depth=5)\n",
    "    clf.fit(df_final_train,y_train.to_numpy())\n",
    "    train_sc = f1_score(y_train.to_numpy(),clf.predict(df_final_train))\n",
    "    test_sc = f1_score(y_test.to_numpy(),clf.predict(df_final_test))\n",
    "    test_scores.append(test_sc)\n",
    "    train_scores.append(train_sc)\n",
    "    print('Estimators = ',i,'Train Score',train_sc,'test Score',test_sc)\n",
    "plt.plot(estimators,train_scores,label='Train Score')\n",
    "plt.plot(estimators,test_scores,label='Test Score')\n",
    "plt.xlabel('Estimators')\n",
    "plt.ylabel('Score')\n",
    "plt.title('Estimators vs score at max depth of 5')"
   ]
  },
  {
   "cell_type": "code",
   "execution_count": 60,
   "metadata": {},
   "outputs": [
    {
     "data": {
      "application/vnd.jupyter.widget-view+json": {
       "model_id": "abf7d72e2c4143a9a1652ca3208ac0e1",
       "version_major": 2,
       "version_minor": 0
      },
      "text/plain": [
       "HBox(children=(IntProgress(value=0, max=9), HTML(value='')))"
      ]
     },
     "metadata": {},
     "output_type": "display_data"
    },
    {
     "name": "stdout",
     "output_type": "stream",
     "text": [
      "Estimators =  3 Train Score 0.9675080014584938 test Score 0.9231679986468773\n",
      "Estimators =  9 Train Score 0.976970824319133 test Score 0.929155890956883\n",
      "Estimators =  11 Train Score 0.9777293193611566 test Score 0.9319559752413545\n",
      "Estimators =  15 Train Score 0.9779150516795867 test Score 0.929214220678849\n",
      "Estimators =  20 Train Score 0.9778607844127002 test Score 0.9294289525503397\n",
      "Estimators =  35 Train Score 0.9778607844127002 test Score 0.9294289525503397\n",
      "Estimators =  50 Train Score 0.9778607844127002 test Score 0.9294289525503397\n",
      "Estimators =  70 Train Score 0.9778607844127002 test Score 0.9294289525503397\n",
      "Estimators =  130 Train Score 0.9778607844127002 test Score 0.9294289525503397\n",
      "\n"
     ]
    },
    {
     "data": {
      "text/plain": [
       "Text(0.5, 1.0, 'Depths vs score at estimators of 50')"
      ]
     },
     "execution_count": 60,
     "metadata": {},
     "output_type": "execute_result"
    },
    {
     "data": {
      "image/png": "[encoded data removed]",
      "text/plain": [
       "<Figure size 432x288 with 1 Axes>"
      ]
     },
     "metadata": {
      "needs_background": "light"
     },
     "output_type": "display_data"
    }
   ],
   "source": [
    "depths = [3,9,11,15,20,35,50,70,130]\n",
    "\n",
    "train_scores = []\n",
    "test_scores = []\n",
    "for i in tqdm_notebook(depths):\n",
    "    clf = LGBMClassifier(n_estimators=50, learning_rate=0.1, objective='binary', n_jobs=5, max_depth=i)\n",
    "    clf.fit(df_final_train,y_train.to_numpy())\n",
    "    train_sc = f1_score(y_train.to_numpy(),clf.predict(df_final_train))\n",
    "    test_sc = f1_score(y_test.to_numpy(),clf.predict(df_final_test))\n",
    "    test_scores.append(test_sc)\n",
    "    train_scores.append(train_sc)\n",
    "    print('Estimators = ',i,'Train Score',train_sc,'test Score',test_sc)\n",
    "plt.plot(depths,train_scores,label='Train Score')\n",
    "plt.plot(depths,test_scores,label='Test Score')\n",
    "plt.xlabel('Depths')\n",
    "plt.ylabel('Score')\n",
    "plt.title('Depths vs score at estimators of 50')"
   ]
  },
  {
   "cell_type": "code",
   "execution_count": 61,
   "metadata": {},
   "outputs": [],
   "source": [
    "from sklearn.metrics import confusion_matrix\n",
    "def plot_confusion_matrix(test_y, predict_y):\n",
    "    C = confusion_matrix(test_y, predict_y)\n",
    "    \n",
    "    A =(((C.T)/(C.sum(axis=1))).T)\n",
    "    \n",
    "    B =(C/C.sum(axis=0))\n",
    "    plt.figure(figsize=(20,4))\n",
    "    \n",
    "    labels = [0,1]\n",
    "    # representing A in heatmap format\n",
    "    cmap=sns.light_palette(\"blue\")\n",
    "    plt.subplot(1, 3, 1)\n",
    "    sns.heatmap(C, annot=True, cmap=cmap, fmt=\".3f\", xticklabels=labels, yticklabels=labels)\n",
    "    plt.xlabel('Predicted Class')\n",
    "    plt.ylabel('Original Class')\n",
    "    plt.title(\"Confusion matrix\")\n",
    "    \n",
    "    plt.subplot(1, 3, 2)\n",
    "    sns.heatmap(B, annot=True, cmap=cmap, fmt=\".3f\", xticklabels=labels, yticklabels=labels)\n",
    "    plt.xlabel('Predicted Class')\n",
    "    plt.ylabel('Original Class')\n",
    "    plt.title(\"Precision matrix\")\n",
    "    \n",
    "    plt.subplot(1, 3, 3)\n",
    "    # representing B in heatmap format\n",
    "    sns.heatmap(A, annot=True, cmap=cmap, fmt=\".3f\", xticklabels=labels, yticklabels=labels)\n",
    "    plt.xlabel('Predicted Class')\n",
    "    plt.ylabel('Original Class')\n",
    "    plt.title(\"Recall matrix\")\n",
    "    \n",
    "    plt.show()"
   ]
  },
  {
   "cell_type": "code",
   "execution_count": 78,
   "metadata": {},
   "outputs": [],
   "source": [
    "#fitting the model with best parameters\n",
    "clf = LGBMClassifier(n_estimators=50, learning_rate=0.1, objective='binary', n_jobs=5, max_depth=11)\n",
    "\n",
    "clf.fit(df_final_train,y_train)\n",
    "y_train_pred = clf.predict(df_final_train)\n",
    "y_test_pred = clf.predict(df_final_test)"
   ]
  },
  {
   "cell_type": "code",
   "execution_count": 79,
   "metadata": {},
   "outputs": [
    {
     "name": "stdout",
     "output_type": "stream",
     "text": [
      "Train f1 score 0.9777293193611566\n",
      "Test f1 score 0.9319559752413545\n"
     ]
    }
   ],
   "source": [
    "print('Train f1 score',f1_score(y_train,y_train_pred))\n",
    "print('Test f1 score',f1_score(y_test,y_test_pred))"
   ]
  },
  {
   "cell_type": "code",
   "execution_count": 64,
   "metadata": {},
   "outputs": [
    {
     "name": "stdout",
     "output_type": "stream",
     "text": [
      "Train confusion_matrix\n"
     ]
    },
    {
     "data": {
      "image/png": "[encoded data removed]",
      "text/plain": [
       "<Figure size 1440x288 with 6 Axes>"
      ]
     },
     "metadata": {
      "needs_background": "light"
     },
     "output_type": "display_data"
    },
    {
     "name": "stdout",
     "output_type": "stream",
     "text": [
      "Test confusion_matrix\n"
     ]
    },
    {
     "data": {
      "image/png": "[encoded data removed]",
      "text/plain": [
       "<Figure size 1440x288 with 6 Axes>"
      ]
     },
     "metadata": {
      "needs_background": "light"
     },
     "output_type": "display_data"
    }
   ],
   "source": [
    "print('Train confusion_matrix')\n",
    "plot_confusion_matrix(y_train,y_train_pred)\n",
    "print('Test confusion_matrix')\n",
    "plot_confusion_matrix(y_test,y_test_pred)"
   ]
  },
  {
   "cell_type": "code",
   "execution_count": 65,
   "metadata": {},
   "outputs": [
    {
     "data": {
      "image/png": "[encoded data removed]",
      "text/plain": [
       "<Figure size 432x288 with 1 Axes>"
      ]
     },
     "metadata": {
      "needs_background": "light"
     },
     "output_type": "display_data"
    }
   ],
   "source": [
    "from sklearn.metrics import roc_curve, auc\n",
    "fpr,tpr,ths = roc_curve(y_test,y_test_pred)\n",
    "auc_sc = auc(fpr, tpr)\n",
    "plt.plot(fpr, tpr, color='navy',label='ROC curve (area = %0.2f)' % auc_sc)\n",
    "plt.xlabel('False Positive Rate')\n",
    "plt.ylabel('True Positive Rate')\n",
    "plt.title('Receiver operating characteristic with test data')\n",
    "plt.legend()\n",
    "plt.show()"
   ]
  },
  {
   "cell_type": "code",
   "execution_count": 66,
   "metadata": {},
   "outputs": [
    {
     "data": {
      "image/png": "[encoded data removed]",
      "text/plain": [
       "<Figure size 720x864 with 1 Axes>"
      ]
     },
     "metadata": {
      "needs_background": "light"
     },
     "output_type": "display_data"
    }
   ],
   "source": [
    "features = df_final_train.columns\n",
    "importances = clf.feature_importances_\n",
    "indices = (np.argsort(importances))[-25:]\n",
    "plt.figure(figsize=(10,12))\n",
    "plt.title('Feature Importances')\n",
    "plt.barh(range(len(indices)), importances[indices], color='r', align='center')\n",
    "plt.yticks(range(len(indices)), [features[i] for i in indices])\n",
    "plt.xlabel('Relative Importance')\n",
    "plt.show()"
   ]
  },
  {
   "cell_type": "markdown",
   "metadata": {},
   "source": [
    "## Random Forest model"
   ]
  },
  {
   "cell_type": "code",
   "execution_count": 67,
   "metadata": {
    "colab": {},
    "colab_type": "code",
    "id": "lIEc91uVHgli",
    "outputId": "31f04b72-ebe5-4b13-ccca-a5ae3bc4f09c"
   },
   "outputs": [
    {
     "name": "stdout",
     "output_type": "stream",
     "text": [
      "Estimators =  10 Train Score 0.916031808979149 test Score 0.8984278994872664\n",
      "Estimators =  50 Train Score 0.9181232750689972 test Score 0.9133901221098569\n",
      "Estimators =  100 Train Score 0.9190342245877469 test Score 0.9140351245305189\n",
      "Estimators =  250 Train Score 0.9209657880446134 test Score 0.9158243509625468\n",
      "Estimators =  450 Train Score 0.9214206576499361 test Score 0.9165564582152528\n"
     ]
    },
    {
     "data": {
      "text/plain": [
       "Text(0.5, 1.0, 'Estimators vs score at depth of 5')"
      ]
     },
     "execution_count": 67,
     "metadata": {},
     "output_type": "execute_result"
    },
    {
     "data": {
      "image/png": "[encoded data removed]",
      "text/plain": [
       "<Figure size 432x288 with 1 Axes>"
      ]
     },
     "metadata": {
      "needs_background": "light"
     },
     "output_type": "display_data"
    }
   ],
   "source": [
    "estimators = [10,50,100,250,450]\n",
    "train_scores = []\n",
    "test_scores = []\n",
    "for i in estimators:\n",
    "    clf = RandomForestClassifier(bootstrap=True, class_weight=None, criterion='gini',\n",
    "            max_depth=5, max_features='auto', max_leaf_nodes=None,\n",
    "            min_impurity_decrease=0.0, min_impurity_split=None,\n",
    "            min_samples_leaf=52, min_samples_split=120,\n",
    "            min_weight_fraction_leaf=0.0, n_estimators=i, n_jobs=-1,random_state=25,verbose=0,warm_start=False)\n",
    "    clf.fit(df_final_train,y_train)\n",
    "    train_sc = f1_score(y_train,clf.predict(df_final_train))\n",
    "    test_sc = f1_score(y_test,clf.predict(df_final_test))\n",
    "    test_scores.append(test_sc)\n",
    "    train_scores.append(train_sc)\n",
    "    print('Estimators = ',i,'Train Score',train_sc,'test Score',test_sc)\n",
    "plt.plot(estimators,train_scores,label='Train Score')\n",
    "plt.plot(estimators,test_scores,label='Test Score')\n",
    "plt.xlabel('Estimators')\n",
    "plt.ylabel('Score')\n",
    "plt.title('Estimators vs score at depth of 5')"
   ]
  },
  {
   "cell_type": "code",
   "execution_count": 68,
   "metadata": {
    "colab": {},
    "colab_type": "code",
    "id": "nZxhrTdQHglm",
    "outputId": "53382b8e-148d-4c22-8066-d9807fb27012"
   },
   "outputs": [
    {
     "name": "stdout",
     "output_type": "stream",
     "text": [
      "depth =  3 Train Score 0.8785540082561737 test Score 0.8593592195457377\n",
      "depth =  9 Train Score 0.9563841300308333 test Score 0.9230996309963099\n",
      "depth =  11 Train Score 0.9592785970911829 test Score 0.9244532384701202\n",
      "depth =  15 Train Score 0.9620183598282074 test Score 0.9248459785635919\n",
      "depth =  20 Train Score 0.9621656815569143 test Score 0.9252837193604184\n",
      "depth =  35 Train Score 0.9620175929221538 test Score 0.925071681565188\n",
      "depth =  50 Train Score 0.9620175929221538 test Score 0.925071681565188\n",
      "depth =  70 Train Score 0.9620175929221538 test Score 0.925071681565188\n",
      "depth =  130 Train Score 0.9620175929221538 test Score 0.925071681565188\n"
     ]
    },
    {
     "data": {
      "image/png": "[encoded data removed]",
      "text/plain": [
       "<Figure size 432x288 with 1 Axes>"
      ]
     },
     "metadata": {
      "needs_background": "light"
     },
     "output_type": "display_data"
    }
   ],
   "source": [
    "depths = [3,9,11,15,20,35,50,70,130]\n",
    "train_scores = []\n",
    "test_scores = []\n",
    "for i in depths:\n",
    "    clf = RandomForestClassifier(bootstrap=True, class_weight=None, criterion='gini',\n",
    "            max_depth=i, max_features='auto', max_leaf_nodes=None,\n",
    "            min_impurity_decrease=0.0, min_impurity_split=None,\n",
    "            min_samples_leaf=52, min_samples_split=120,\n",
    "            min_weight_fraction_leaf=0.0, n_estimators=115, n_jobs=-1,random_state=25,verbose=0,warm_start=False)\n",
    "    clf.fit(df_final_train,y_train)\n",
    "    train_sc = f1_score(y_train,clf.predict(df_final_train))\n",
    "    test_sc = f1_score(y_test,clf.predict(df_final_test))\n",
    "    test_scores.append(test_sc)\n",
    "    train_scores.append(train_sc)\n",
    "    print('depth = ',i,'Train Score',train_sc,'test Score',test_sc)\n",
    "plt.plot(depths,train_scores,label='Train Score')\n",
    "plt.plot(depths,test_scores,label='Test Score')\n",
    "plt.xlabel('Depth')\n",
    "plt.ylabel('Score')\n",
    "plt.title('Depth vs score at depth of 5 at estimators = 115')\n",
    "plt.show()"
   ]
  },
  {
   "cell_type": "code",
   "execution_count": 69,
   "metadata": {
    "colab": {},
    "colab_type": "code",
    "id": "MrG1Lfl3Hglq",
    "outputId": "7b6e3c97-8d66-455d-cd79-213f824719cc"
   },
   "outputs": [
    {
     "name": "stdout",
     "output_type": "stream",
     "text": [
      "mean test scores [0.96187661 0.96145871 0.95975427 0.96117622 0.96312084]\n",
      "mean train scores [0.96275257 0.96229269 0.96033761 0.9618115  0.96401075]\n"
     ]
    }
   ],
   "source": [
    "from sklearn.metrics import f1_score\n",
    "from sklearn.ensemble import RandomForestClassifier\n",
    "from sklearn.metrics import f1_score\n",
    "from sklearn.model_selection import RandomizedSearchCV\n",
    "from scipy.stats import randint as sp_randint\n",
    "from scipy.stats import uniform\n",
    "\n",
    "param_dist = {\"n_estimators\":sp_randint(105,125),\n",
    "              \"max_depth\": sp_randint(10,15),\n",
    "              \"min_samples_split\": sp_randint(110,190),\n",
    "              \"min_samples_leaf\": sp_randint(25,65)}\n",
    "\n",
    "clf = RandomForestClassifier(random_state=25,n_jobs=-1)\n",
    "\n",
    "rf_random = RandomizedSearchCV(clf, param_distributions=param_dist,\n",
    "                                   n_iter=5,cv=10,scoring='f1',random_state=25)\n",
    "\n",
    "rf_random.fit(df_final_train,y_train)\n",
    "print('mean test scores',rf_random.cv_results_['mean_test_score'])\n",
    "print('mean train scores',rf_random.cv_results_['mean_train_score'])"
   ]
  },
  {
   "cell_type": "code",
   "execution_count": 70,
   "metadata": {
    "colab": {},
    "colab_type": "code",
    "id": "hme3j_diHglu",
    "outputId": "581ccc02-7770-4a94-d003-257af4e81570"
   },
   "outputs": [
    {
     "name": "stdout",
     "output_type": "stream",
     "text": [
      "RandomForestClassifier(bootstrap=True, class_weight=None, criterion='gini',\n",
      "            max_depth=14, max_features='auto', max_leaf_nodes=None,\n",
      "            min_impurity_decrease=0.0, min_impurity_split=None,\n",
      "            min_samples_leaf=28, min_samples_split=111,\n",
      "            min_weight_fraction_leaf=0.0, n_estimators=121, n_jobs=-1,\n",
      "            oob_score=False, random_state=25, verbose=0, warm_start=False)\n"
     ]
    }
   ],
   "source": [
    "print(rf_random.best_estimator_)"
   ]
  },
  {
   "cell_type": "code",
   "execution_count": 71,
   "metadata": {
    "colab": {},
    "colab_type": "code",
    "id": "qu4KIEweHglx"
   },
   "outputs": [],
   "source": [
    "clf = RandomForestClassifier(bootstrap=True, class_weight=None, criterion='gini',\n",
    "            max_depth=14, max_features='auto', max_leaf_nodes=None,\n",
    "            min_impurity_decrease=0.0, min_impurity_split=None,\n",
    "            min_samples_leaf=28, min_samples_split=111,\n",
    "            min_weight_fraction_leaf=0.0, n_estimators=121, n_jobs=-1,\n",
    "            oob_score=False, random_state=25, verbose=0, warm_start=False)"
   ]
  },
  {
   "cell_type": "code",
   "execution_count": 72,
   "metadata": {
    "colab": {},
    "colab_type": "code",
    "id": "Dax83GfLHgl1"
   },
   "outputs": [],
   "source": [
    "clf.fit(df_final_train,y_train)\n",
    "y_train_pred = clf.predict(df_final_train)\n",
    "y_test_pred = clf.predict(df_final_test)"
   ]
  },
  {
   "cell_type": "code",
   "execution_count": 73,
   "metadata": {
    "colab": {},
    "colab_type": "code",
    "id": "PTtAp1iTHgl4",
    "outputId": "e2e3d725-3c4d-4374-d303-8f294b570977"
   },
   "outputs": [
    {
     "name": "stdout",
     "output_type": "stream",
     "text": [
      "Train f1 score 0.9643208786300841\n",
      "Test f1 score 0.9266136162687888\n"
     ]
    }
   ],
   "source": [
    "from sklearn.metrics import f1_score\n",
    "print('Train f1 score',f1_score(y_train,y_train_pred))\n",
    "print('Test f1 score',f1_score(y_test,y_test_pred))"
   ]
  },
  {
   "cell_type": "code",
   "execution_count": 74,
   "metadata": {
    "colab": {},
    "colab_type": "code",
    "id": "5XfUkZYQHgl7"
   },
   "outputs": [],
   "source": [
    "from sklearn.metrics import confusion_matrix\n",
    "def plot_confusion_matrix(test_y, predict_y):\n",
    "    C = confusion_matrix(test_y, predict_y)\n",
    "    \n",
    "    A =(((C.T)/(C.sum(axis=1))).T)\n",
    "    \n",
    "    B =(C/C.sum(axis=0))\n",
    "    plt.figure(figsize=(20,4))\n",
    "    \n",
    "    labels = [0,1]\n",
    "    # representing A in heatmap format\n",
    "    cmap=sns.light_palette(\"blue\")\n",
    "    plt.subplot(1, 3, 1)\n",
    "    sns.heatmap(C, annot=True, cmap=cmap, fmt=\".3f\", xticklabels=labels, yticklabels=labels)\n",
    "    plt.xlabel('Predicted Class')\n",
    "    plt.ylabel('Original Class')\n",
    "    plt.title(\"Confusion matrix\")\n",
    "    \n",
    "    plt.subplot(1, 3, 2)\n",
    "    sns.heatmap(B, annot=True, cmap=cmap, fmt=\".3f\", xticklabels=labels, yticklabels=labels)\n",
    "    plt.xlabel('Predicted Class')\n",
    "    plt.ylabel('Original Class')\n",
    "    plt.title(\"Precision matrix\")\n",
    "    \n",
    "    plt.subplot(1, 3, 3)\n",
    "    # representing B in heatmap format\n",
    "    sns.heatmap(A, annot=True, cmap=cmap, fmt=\".3f\", xticklabels=labels, yticklabels=labels)\n",
    "    plt.xlabel('Predicted Class')\n",
    "    plt.ylabel('Original Class')\n",
    "    plt.title(\"Recall matrix\")\n",
    "    \n",
    "    plt.show()"
   ]
  },
  {
   "cell_type": "code",
   "execution_count": 75,
   "metadata": {
    "colab": {},
    "colab_type": "code",
    "id": "s6t11dhTHgl-",
    "outputId": "189de3be-1c99-4653-f56f-12b18b0f4db7"
   },
   "outputs": [
    {
     "name": "stdout",
     "output_type": "stream",
     "text": [
      "Train confusion_matrix\n"
     ]
    },
    {
     "data": {
      "image/png": "[encoded data removed]",
      "text/plain": [
       "<Figure size 1440x288 with 6 Axes>"
      ]
     },
     "metadata": {
      "needs_background": "light"
     },
     "output_type": "display_data"
    },
    {
     "name": "stdout",
     "output_type": "stream",
     "text": [
      "Test confusion_matrix\n"
     ]
    },
    {
     "data": {
      "image/png": "[encoded data removed]",
      "text/plain": [
       "<Figure size 1440x288 with 6 Axes>"
      ]
     },
     "metadata": {
      "needs_background": "light"
     },
     "output_type": "display_data"
    }
   ],
   "source": [
    "print('Train confusion_matrix')\n",
    "plot_confusion_matrix(y_train,y_train_pred)\n",
    "print('Test confusion_matrix')\n",
    "plot_confusion_matrix(y_test,y_test_pred)"
   ]
  },
  {
   "cell_type": "code",
   "execution_count": 76,
   "metadata": {
    "colab": {},
    "colab_type": "code",
    "id": "61TF-VLeHgmD",
    "outputId": "795f1b39-61c7-470f-e2d0-1fe6dc7ac5fd"
   },
   "outputs": [
    {
     "data": {
      "image/png": "[encoded data removed]",
      "text/plain": [
       "<Figure size 432x288 with 1 Axes>"
      ]
     },
     "metadata": {
      "needs_background": "light"
     },
     "output_type": "display_data"
    }
   ],
   "source": [
    "from sklearn.metrics import roc_curve, auc\n",
    "fpr,tpr,ths = roc_curve(y_test,y_test_pred)\n",
    "auc_sc = auc(fpr, tpr)\n",
    "plt.plot(fpr, tpr, color='navy',label='ROC curve (area = %0.2f)' % auc_sc)\n",
    "plt.xlabel('False Positive Rate')\n",
    "plt.ylabel('True Positive Rate')\n",
    "plt.title('Receiver operating characteristic with test data')\n",
    "plt.legend()\n",
    "plt.show()"
   ]
  },
  {
   "cell_type": "code",
   "execution_count": 77,
   "metadata": {
    "colab": {},
    "colab_type": "code",
    "id": "HEZ7uvN6HgmK",
    "outputId": "6f762256-54fc-4e2f-865b-22342033eb2c",
    "scrolled": false
   },
   "outputs": [
    {
     "data": {
      "image/png": "[encoded data removed]",
      "text/plain": [
       "<Figure size 720x864 with 1 Axes>"
      ]
     },
     "metadata": {
      "needs_background": "light"
     },
     "output_type": "display_data"
    }
   ],
   "source": [
    "features = df_final_train.columns\n",
    "importances = clf.feature_importances_\n",
    "indices = (np.argsort(importances))[-25:]\n",
    "plt.figure(figsize=(10,12))\n",
    "plt.title('Feature Importances')\n",
    "plt.barh(range(len(indices)), importances[indices], color='r', align='center')\n",
    "plt.yticks(range(len(indices)), [features[i] for i in indices])\n",
    "plt.xlabel('Relative Importance')\n",
    "plt.show()"
   ]
  },
  {
   "cell_type": "markdown",
   "metadata": {},
   "source": [
    "# Conclusion\n",
    "\n",
    " - The new features dot products and preferential attachment have fair amount of importance in XG Boost model\n",
    " - The dot product features aren't found as useful in Random Forest model\n",
    " - The XG Boost model (0.9319) has a slightly better test score than Random Forest model (0.9266)"
   ]
  }
 ],
 "metadata": {
  "colab": {
   "collapsed_sections": [],
   "name": "FB_Models.ipynb",
   "provenance": [],
   "version": "0.3.2"
  },
  "kernelspec": {
   "display_name": "Python 3",
   "language": "python",
   "name": "python3"
  },
  "language_info": {
   "codemirror_mode": {
    "name": "ipython",
    "version": 3
   },
   "file_extension": ".py",
   "mimetype": "text/x-python",
   "name": "python",
   "nbconvert_exporter": "python",
   "pygments_lexer": "ipython3",
   "version": "3.7.3"
  }
 },
 "nbformat": 4,
 "nbformat_minor": 1
}
